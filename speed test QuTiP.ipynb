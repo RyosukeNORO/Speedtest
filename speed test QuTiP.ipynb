{
 "cells": [
  {
   "cell_type": "code",
   "execution_count": 2,
   "id": "e24f6074",
   "metadata": {},
   "outputs": [],
   "source": [
    "from qutip import *\n",
    "from qutip.measurement import measure, measurement_statistics\n",
    "import numpy as np\n",
    "from scipy.linalg import expm\n",
    "import matplotlib.pyplot as plt\n",
    "import matplotlib as mpl\n",
    "from matplotlib import cm\n",
    "import time\n",
    "from tqdm.notebook import tqdm\n",
    "\n",
    "def plot_wigner(rho, fig=None, ax=None):\n",
    "    \"\"\"\n",
    "    Plot the Wigner function and the Fock state distribution given a density matrix for\n",
    "    a harmonic oscillator mode.\n",
    "    \"\"\"\n",
    "    \n",
    "    if fig is None or ax is None:\n",
    "        fig, ax = plt.subplots(1, 1, figsize=(4,4))\n",
    "\n",
    "    if isket(rho):  # ket状態を密度関数にする（必要かわからん）\n",
    "        rho = ket2dm(rho)\n",
    "    \n",
    "    scale = np.sqrt(2)\n",
    "    xvec = np.linspace(-5*scale,5*scale,100)\n",
    "\n",
    "    W = wigner(rho, xvec, xvec)\n",
    "    wlim = abs(W).max()\n",
    "\n",
    "    ax.contourf(xvec/scale, xvec/scale, W, 60, norm=mpl.colors.Normalize(-wlim,wlim), cmap=mpl.cm.get_cmap('RdBu'))\n",
    "    ax.set_xlabel('q', fontsize=16)\n",
    "    ax.set_ylabel('p', fontsize=16)\n",
    "    #ax.set_title()\n",
    "    fig.tight_layout\n",
    "    \n",
    "    return fig, ax"
   ]
  },
  {
   "cell_type": "code",
   "execution_count": 3,
   "id": "02edbaa3",
   "metadata": {},
   "outputs": [],
   "source": [
    "def rotation(dim, phi):\n",
    "    op = 1j * phi * adag * a\n",
    "    return op.expm()\n",
    "\n",
    "def kerr(dim, kappa):\n",
    "    n = adag * a\n",
    "    op = 1j * kappa * n * n\n",
    "    return op.expm()"
   ]
  },
  {
   "cell_type": "code",
   "execution_count": 13,
   "id": "5881b73d",
   "metadata": {},
   "outputs": [],
   "source": [
    "def variational_quantum_circuit(params):\n",
    "    \n",
    "    # Gate layer: D-R-S-R-K\n",
    "    def layer(i, phi):\n",
    "        s = time.perf_counter()\n",
    "        D = displace(dim, params[i*7+0]*np.exp(1j*params[i*7+1]))\n",
    "        R1 = rotation(dim, params[i*7+2])\n",
    "        S = squeeze(dim, params[i*7+3]*np.exp(1j*params[i*7+4]))\n",
    "        R2 = rotation(dim, params[i*7+5])\n",
    "        K = kerr(dim, params[i*7+6])\n",
    "        quantum_state = K * D * R2 * S * R1 * phi\n",
    "        e = time.perf_counter()  \n",
    "        return quantum_state, e-s\n",
    "    \n",
    "    # construct the circuit\n",
    "    state = fock(dim, 0)\n",
    "    for i in range(depth):\n",
    "        state, t = layer(i, state)\n",
    "    \n",
    "    #print('time',e-s)\n",
    "    return state, t"
   ]
  },
  {
   "cell_type": "code",
   "execution_count": 14,
   "id": "e14e760b",
   "metadata": {},
   "outputs": [
    {
     "data": {
      "application/vnd.jupyter.widget-view+json": {
       "model_id": "ac0767ffbed1414095e5067a787f0e4e",
       "version_major": 2,
       "version_minor": 0
      },
      "text/plain": [
       "  0%|          | 0/100 [00:00<?, ?it/s]"
      ]
     },
     "metadata": {},
     "output_type": "display_data"
    },
    {
     "name": "stdout",
     "output_type": "stream",
     "text": [
      "avg 0.0034226740000303834\n"
     ]
    }
   ],
   "source": [
    "dim = 30\n",
    "depth = 8\n",
    "\n",
    "a = destroy(dim)\n",
    "adag = a.dag()\n",
    "\n",
    "t = np.zeros(100)\n",
    "for i in tqdm(range(100)):\n",
    "    params = np.random.normal(0, 0.1, [7*depth]) # 最初のパラメータ\n",
    "    state, t[i] = variational_quantum_circuit(params)\n",
    "print('avg',np.sum(t/100))"
   ]
  },
  {
   "cell_type": "code",
   "execution_count": 17,
   "id": "6a2e963a",
   "metadata": {},
   "outputs": [
    {
     "name": "stdout",
     "output_type": "stream",
     "text": [
      "time_np 7.609999920532573e-05\n",
      "time_qobj 0.0007089999999152496\n"
     ]
    }
   ],
   "source": [
    "dim = 30\n",
    "# 単純な行列の積\n",
    "state1_real = np.random.rand(dim, dim)\n",
    "state1_imag = np.random.rand(dim, dim)\n",
    "state1_np = state1_real + 1j * state1_imag\n",
    "state1_qobj = Qobj(state1_np)\n",
    "\n",
    "state2_real = np.random.rand(dim, 1)\n",
    "state2_imag = np.random.rand(dim, 1)\n",
    "state2_np = state2_real + 1j * state2_imag\n",
    "state2_qobj = Qobj(state2_np)\n",
    "\n",
    "itr = 16\n",
    "\n",
    "s_np = time.perf_counter()\n",
    "for i in range(itr):\n",
    "    a_np = state1_np @ state2_np\n",
    "e_np = time.perf_counter()\n",
    "\n",
    "s_qobj = time.perf_counter()\n",
    "for i in range(itr):\n",
    "     a_qobj = state1_qobj * state2_qobj\n",
    "e_qobj = time.perf_counter()\n",
    "\n",
    "print('time_np', e_np-s_np)\n",
    "print('time_qobj', e_qobj-s_qobj)"
   ]
  },
  {
   "cell_type": "code",
   "execution_count": 9,
   "id": "a62fa642",
   "metadata": {},
   "outputs": [
    {
     "name": "stdout",
     "output_type": "stream",
     "text": [
      "time_np 0.04111600000032922\n",
      "time_qobj 0.07014329999947222\n"
     ]
    }
   ],
   "source": [
    "dim = 30\n",
    "# 指数行列の計算\n",
    "state1_real = np.random.rand(dim, dim)\n",
    "state1_imag = np.random.rand(dim, dim)\n",
    "state1_np = state1_real + 1j * state1_imag\n",
    "state1_qobj = Qobj(state1_np)\n",
    "\n",
    "itr = 100\n",
    "\n",
    "s_qobj = time.perf_counter()\n",
    "for i in range(itr):\n",
    "    a_qobj = state1_qobj.expm()\n",
    "e_qobj = time.perf_counter()\n",
    "\n",
    "s_np = time.perf_counter()\n",
    "for i in range(itr):\n",
    "    a_np = expm(state1_np)\n",
    "e_np = time.perf_counter()\n",
    "\n",
    "print('time_np', e_np-s_np)\n",
    "print('time_qobj', e_qobj-s_qobj)"
   ]
  },
  {
   "cell_type": "code",
   "execution_count": null,
   "id": "8988ab49",
   "metadata": {},
   "outputs": [],
   "source": []
  }
 ],
 "metadata": {
  "kernelspec": {
   "display_name": "Python 3 (ipykernel)",
   "language": "python",
   "name": "python3"
  },
  "language_info": {
   "codemirror_mode": {
    "name": "ipython",
    "version": 3
   },
   "file_extension": ".py",
   "mimetype": "text/x-python",
   "name": "python",
   "nbconvert_exporter": "python",
   "pygments_lexer": "ipython3",
   "version": "3.8.8"
  }
 },
 "nbformat": 4,
 "nbformat_minor": 5
}
