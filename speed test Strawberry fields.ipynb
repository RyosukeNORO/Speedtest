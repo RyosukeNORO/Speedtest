{
 "cells": [
  {
   "cell_type": "code",
   "execution_count": 4,
   "id": "e24f6074",
   "metadata": {},
   "outputs": [],
   "source": [
    "import strawberryfields as sf\n",
    "from strawberryfields.ops import *\n",
    "import numpy as np\n",
    "import matplotlib.pyplot as plt\n",
    "import matplotlib as mpl\n",
    "from matplotlib import colors, colorbar, cm\n",
    "import time\n",
    "from tqdm.notebook import tqdm"
   ]
  },
  {
   "cell_type": "code",
   "execution_count": 11,
   "id": "5881b73d",
   "metadata": {},
   "outputs": [],
   "source": [
    "def variational_quantum_circuit(params):\n",
    "    s = time.perf_counter()\n",
    "    # Gate layer: D-R-S-R-K\n",
    "    def layer(i, q):\n",
    "        Rgate(params[i*7+0])                | q\n",
    "        Sgate(params[i*7+1], params[i*7+2]) | q\n",
    "        Rgate(params[i*7+3])                | q\n",
    "        Dgate(params[i*7+4], params[i*7+5]) | q\n",
    "        Kgate(params[i*7+6])                | q\n",
    "        return q\n",
    "    \n",
    "    # Start SF program\n",
    "    prog = sf.Program(1)\n",
    "\n",
    "    # construct the circuit\n",
    "    with prog.context as q:\n",
    "        Vacuum() | q\n",
    "        for k in range(depth):\n",
    "            q = layer(k, q)\n",
    "    \n",
    "    eng = sf.Engine(\"fock\", backend_options={\"cutoff_dim\": dim})\n",
    "    state = eng.run(prog).state\n",
    "    ket = state.ket()\n",
    "\n",
    "    e = time.perf_counter()\n",
    "    #print('time',e-s)\n",
    "    return ket, e-s"
   ]
  },
  {
   "cell_type": "code",
   "execution_count": 13,
   "id": "e14e760b",
   "metadata": {},
   "outputs": [
    {
     "data": {
      "application/vnd.jupyter.widget-view+json": {
       "model_id": "4a1f42b6557e45a291a3f205483a220a",
       "version_major": 2,
       "version_minor": 0
      },
      "text/plain": [
       "  0%|          | 0/10 [00:00<?, ?it/s]"
      ]
     },
     "metadata": {},
     "output_type": "display_data"
    },
    {
     "name": "stdout",
     "output_type": "stream",
     "text": [
      "avg 0.7886259400000086\n",
      "<class 'numpy.ndarray'>\n"
     ]
    }
   ],
   "source": [
    "dim = 1000\n",
    "depth = 8\n",
    "\n",
    "t = np.zeros(10)\n",
    "for i in tqdm(range(10)):\n",
    "    params = np.random.normal(0, 0.1, [7*depth]) # 最初のパラメータ\n",
    "    state, t[i] = variational_quantum_circuit(params)\n",
    "print('avg',np.sum(t/10))\n",
    "print(type(state))"
   ]
  },
  {
   "cell_type": "code",
   "execution_count": 20,
   "id": "176a241c",
   "metadata": {},
   "outputs": [
    {
     "name": "stdout",
     "output_type": "stream",
     "text": [
      "(1.0000000000000004+0j)\n",
      "0.00022919999992154771\n"
     ]
    }
   ],
   "source": [
    "s = time.perf_counter()\n",
    "print(np.sum(np.conjugate(state.T)@state))\n",
    "e = time.perf_counter()\n",
    "print(e-s)"
   ]
  },
  {
   "cell_type": "code",
   "execution_count": null,
   "id": "d01e7848",
   "metadata": {},
   "outputs": [],
   "source": []
  }
 ],
 "metadata": {
  "kernelspec": {
   "display_name": "Python 3 (ipykernel)",
   "language": "python",
   "name": "python3"
  },
  "language_info": {
   "codemirror_mode": {
    "name": "ipython",
    "version": 3
   },
   "file_extension": ".py",
   "mimetype": "text/x-python",
   "name": "python",
   "nbconvert_exporter": "python",
   "pygments_lexer": "ipython3",
   "version": "3.8.8"
  }
 },
 "nbformat": 4,
 "nbformat_minor": 5
}
