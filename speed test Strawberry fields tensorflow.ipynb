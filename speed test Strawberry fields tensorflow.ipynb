{
 "cells": [
  {
   "cell_type": "code",
   "execution_count": 4,
   "id": "e24f6074",
   "metadata": {},
   "outputs": [],
   "source": [
    "import strawberryfields as sf\n",
    "from strawberryfields.ops import *\n",
    "import tensorflow as tf\n",
    "import numpy as np\n",
    "import matplotlib.pyplot as plt\n",
    "import matplotlib as mpl\n",
    "from matplotlib import colors, colorbar, cm\n",
    "import time\n",
    "from tqdm.notebook import tqdm"
   ]
  },
  {
   "cell_type": "code",
   "execution_count": 12,
   "id": "5881b73d",
   "metadata": {},
   "outputs": [],
   "source": [
    "def variational_quantum_circuit(params):\n",
    "    s = time.perf_counter()\n",
    "    # Gate layer: D-R-S-R-K\n",
    "    def layer(i, q):\n",
    "        with tf.name_scope('layer_{}'.format(i)):\n",
    "            Rgate(params[i*7+0])                | q\n",
    "            Sgate(params[i*7+1], params[i*7+2]) | q\n",
    "            Rgate(params[i*7+3])                | q\n",
    "            Dgate(params[i*7+4], params[i*7+5]) | q\n",
    "            Kgate(params[i*7+6])                | q\n",
    "        return q\n",
    "    \n",
    "    # Start SF program\n",
    "    prog = sf.Program(1)\n",
    "\n",
    "    # construct the circuit\n",
    "    with prog.context as q:\n",
    "        for k in range(depth):\n",
    "            q = layer(k, q)\n",
    "    \n",
    "    eng = sf.Engine(\"tf\", backend_options={\"cutoff_dim\": dim})\n",
    "    state = eng.run(prog, run_options={\"eval\": False}).state\n",
    "\n",
    "    e = time.perf_counter()  \n",
    "    #print('time',e-s)\n",
    "    return state, e-s"
   ]
  },
  {
   "cell_type": "code",
   "execution_count": 25,
   "id": "e14e760b",
   "metadata": {},
   "outputs": [
    {
     "data": {
      "application/vnd.jupyter.widget-view+json": {
       "model_id": "f46fa71eeac14faaae1a2a7a38f70446",
       "version_major": 2,
       "version_minor": 0
      },
      "text/plain": [
       "  0%|          | 0/10 [00:00<?, ?it/s]"
      ]
     },
     "metadata": {},
     "output_type": "display_data"
    },
    {
     "name": "stdout",
     "output_type": "stream",
     "text": [
      "avg 6.495052410000063\n",
      "<FockStateTF: num_modes=1, cutoff=1000, pure=True, batched=False, hbar=2, dtype=<dtype: 'complex64'>>\n"
     ]
    }
   ],
   "source": [
    "dim = 1000\n",
    "depth = 8\n",
    "\n",
    "t = np.zeros(10)\n",
    "for i in tqdm(range(10)):\n",
    "    params = tf.Variable(tf.random.normal(shape=[7*depth], stddev=0.1)) # 最初のパラメータ\n",
    "    state, t[i] = variational_quantum_circuit(params)\n",
    "print('avg',np.sum(t/10))\n",
    "print(state)"
   ]
  },
  {
   "cell_type": "code",
   "execution_count": 39,
   "id": "6a2e963a",
   "metadata": {},
   "outputs": [
    {
     "name": "stdout",
     "output_type": "stream",
     "text": [
      "time_np 0.0019277999999758322\n",
      "time_qobj 20.696699999999964\n"
     ]
    }
   ],
   "source": [
    "dim = 500\n",
    "# 単純な行列の積\n",
    "state1_real = np.random.rand(dim, dim)\n",
    "state1_imag = np.random.rand(dim, dim)\n",
    "state1_np = state1_real + 1j * state1_imag\n",
    "state1_qobj = Qobj(state_np)\n",
    "\n",
    "state2_real = np.random.rand(dim, 1)\n",
    "state2_imag = np.random.rand(dim, 1)\n",
    "state2_np = state2_real + 1j * state2_imag\n",
    "state2_qobj = Qobj(state_np)\n",
    "\n",
    "itr = 100\n",
    "\n",
    "s_np = time.perf_counter()\n",
    "for i in range(itr):\n",
    "    a_np = state1_np @ state2_np\n",
    "e_np = time.perf_counter()\n",
    "\n",
    "s_qobj = time.perf_counter()\n",
    "for i in range(itr):\n",
    "     a_qobj = state1_qobj * state2_qobj\n",
    "e_qobj = time.perf_counter()\n",
    "\n",
    "print('time_np', e_np-s_np)\n",
    "print('time_qobj', e_qobj-s_qobj)"
   ]
  },
  {
   "cell_type": "code",
   "execution_count": 40,
   "id": "a62fa642",
   "metadata": {},
   "outputs": [
    {
     "name": "stdout",
     "output_type": "stream",
     "text": [
      "time_np 20.8004569000002\n",
      "time_qobj 21.33832369999982\n"
     ]
    }
   ],
   "source": [
    "dim = 500\n",
    "# 指数行列の計算\n",
    "state1_real = np.random.rand(dim, dim)\n",
    "state1_imag = np.random.rand(dim, dim)\n",
    "state1_np = state1_real + 1j * state1_imag\n",
    "state1_qobj = Qobj(state_np)\n",
    "\n",
    "itr = 100\n",
    "\n",
    "s_qobj = time.perf_counter()\n",
    "for i in range(itr):\n",
    "    a_qobj = state1_qobj.expm()\n",
    "e_qobj = time.perf_counter()\n",
    "\n",
    "s_np = time.perf_counter()\n",
    "for i in range(itr):\n",
    "    a_np = expm(state1_np)\n",
    "e_np = time.perf_counter()\n",
    "\n",
    "print('time_np', e_np-s_np)\n",
    "print('time_qobj', e_qobj-s_qobj)"
   ]
  },
  {
   "cell_type": "code",
   "execution_count": null,
   "id": "176a241c",
   "metadata": {},
   "outputs": [],
   "source": []
  }
 ],
 "metadata": {
  "kernelspec": {
   "display_name": "Python 3 (ipykernel)",
   "language": "python",
   "name": "python3"
  },
  "language_info": {
   "codemirror_mode": {
    "name": "ipython",
    "version": 3
   },
   "file_extension": ".py",
   "mimetype": "text/x-python",
   "name": "python",
   "nbconvert_exporter": "python",
   "pygments_lexer": "ipython3",
   "version": "3.8.8"
  }
 },
 "nbformat": 4,
 "nbformat_minor": 5
}
