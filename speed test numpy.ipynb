{
 "cells": [
  {
   "cell_type": "code",
   "execution_count": 37,
   "id": "dadd48ca",
   "metadata": {},
   "outputs": [
    {
     "name": "stdout",
     "output_type": "stream",
     "text": [
      "The Cython extension is already loaded. To reload it, use:\n",
      "  %reload_ext Cython\n"
     ]
    }
   ],
   "source": [
    "%load_ext Cython"
   ]
  },
  {
   "cell_type": "code",
   "execution_count": null,
   "id": "e24f6074",
   "metadata": {},
   "outputs": [],
   "source": [
    "from qutip import *\n",
    "from qutip.measurement import measure, measurement_statistics\n",
    "import numpy as np\n",
    "from scipy.linalg import expm\n",
    "import matplotlib.pyplot as plt\n",
    "import matplotlib as mpl\n",
    "from matplotlib import cm\n",
    "import time\n",
    "from tqdm.notebook import tqdm\n",
    "\n",
    "def plot_wigner(rho, fig=None, ax=None):\n",
    "    \"\"\"\n",
    "    Plot the Wigner function and the Fock state distribution given a density matrix for\n",
    "    a harmonic oscillator mode.\n",
    "    \"\"\"\n",
    "    \n",
    "    if fig is None or ax is None:\n",
    "        fig, ax = plt.subplots(1, 1, figsize=(4,4))\n",
    "\n",
    "    if isket(rho):  # ket状態を密度関数にする（必要かわからん）\n",
    "        rho = ket2dm(rho)\n",
    "    \n",
    "    scale = np.sqrt(2)\n",
    "    xvec = np.linspace(-5*scale,5*scale,100)\n",
    "\n",
    "    W = wigner(rho, xvec, xvec)\n",
    "    wlim = abs(W).max()\n",
    "\n",
    "    ax.contourf(xvec/scale, xvec/scale, W, 60, norm=mpl.colors.Normalize(-wlim,wlim), cmap=mpl.cm.get_cmap('RdBu'))\n",
    "    ax.set_xlabel('q', fontsize=16)\n",
    "    ax.set_ylabel('p', fontsize=16)\n",
    "    #ax.set_title()\n",
    "    fig.tight_layout\n",
    "    \n",
    "    return fig, ax"
   ]
  },
  {
   "cell_type": "code",
   "execution_count": 41,
   "id": "7dc7bcd7",
   "metadata": {},
   "outputs": [
    {
     "name": "stderr",
     "output_type": "stream",
     "text": [
      "\n",
      "Error compiling Cython file:\n",
      "------------------------------------------------------------\n",
      "...\n",
      "def displace_np(alpha):\n",
      "    op = alpha * adag - np.conjugate(alpha) * a\n",
      "                ^\n",
      "------------------------------------------------------------\n",
      "\n",
      "C:\\Users\\Ryosuke\\.ipython\\cython\\_cython_magic_1dbc3abe301563da8dd4840e09b32849.pyx:2:17: undeclared name not builtin: adag\n",
      "\n",
      "Error compiling Cython file:\n",
      "------------------------------------------------------------\n",
      "...\n",
      "def displace_np(alpha):\n",
      "    op = alpha * adag - np.conjugate(alpha) * a\n",
      "                       ^\n",
      "------------------------------------------------------------\n",
      "\n",
      "C:\\Users\\Ryosuke\\.ipython\\cython\\_cython_magic_1dbc3abe301563da8dd4840e09b32849.pyx:2:24: undeclared name not builtin: np\n",
      "\n",
      "Error compiling Cython file:\n",
      "------------------------------------------------------------\n",
      "...\n",
      "def displace_np(alpha):\n",
      "    op = alpha * adag - np.conjugate(alpha) * a\n",
      "                                             ^\n",
      "------------------------------------------------------------\n",
      "\n",
      "C:\\Users\\Ryosuke\\.ipython\\cython\\_cython_magic_1dbc3abe301563da8dd4840e09b32849.pyx:2:46: undeclared name not builtin: a\n",
      "\n",
      "Error compiling Cython file:\n",
      "------------------------------------------------------------\n",
      "...\n",
      "def displace_np(alpha):\n",
      "    op = alpha * adag - np.conjugate(alpha) * a\n",
      "    return expm(op)\n",
      "          ^\n",
      "------------------------------------------------------------\n",
      "\n",
      "C:\\Users\\Ryosuke\\.ipython\\cython\\_cython_magic_1dbc3abe301563da8dd4840e09b32849.pyx:3:11: undeclared name not builtin: expm\n"
     ]
    }
   ],
   "source": [
    "\n",
    "def displace_np(alpha):\n",
    "    op = alpha * adag - np.conjugate(alpha) * a\n",
    "    return expm(op)\n",
    "\n",
    "def squeeze_np(z):\n",
    "    op = 1/2 * (np.conjugate(z) * a @ a - z * adag @ adag)\n",
    "    return expm(op)\n",
    "\n",
    "def rotation(phi):\n",
    "    op = 1j * phi * adag @ a\n",
    "    return expm(op)\n",
    "\n",
    "def kerr(kappa):\n",
    "    n = adag @ a\n",
    "    op = 1j * kappa * n @ n\n",
    "    return expm(op)"
   ]
  },
  {
   "cell_type": "code",
   "execution_count": 42,
   "id": "5881b73d",
   "metadata": {},
   "outputs": [
    {
     "name": "stderr",
     "output_type": "stream",
     "text": [
      "\n",
      "Error compiling Cython file:\n",
      "------------------------------------------------------------\n",
      "...\n",
      "def variational_quantum_circuit(params):\n",
      "    s = time.perf_counter()\n",
      "       ^\n",
      "------------------------------------------------------------\n",
      "\n",
      "C:\\Users\\Ryosuke\\.ipython\\cython\\_cython_magic_e9cef08c5648199cda53c547ac4611b9.pyx:2:8: undeclared name not builtin: time\n",
      "\n",
      "Error compiling Cython file:\n",
      "------------------------------------------------------------\n",
      "...\n",
      "        K = kerr(params[i*7+6])\n",
      "        quantum_state = K @ D @ R2 @ S @ R1 @ phi\n",
      "        return quantum_state\n",
      "    \n",
      "    # construct the circuit\n",
      "    state = np.zeros(dim)\n",
      "           ^\n",
      "------------------------------------------------------------\n",
      "\n",
      "C:\\Users\\Ryosuke\\.ipython\\cython\\_cython_magic_e9cef08c5648199cda53c547ac4611b9.pyx:14:12: undeclared name not builtin: np\n",
      "\n",
      "Error compiling Cython file:\n",
      "------------------------------------------------------------\n",
      "...\n",
      "        K = kerr(params[i*7+6])\n",
      "        quantum_state = K @ D @ R2 @ S @ R1 @ phi\n",
      "        return quantum_state\n",
      "    \n",
      "    # construct the circuit\n",
      "    state = np.zeros(dim)\n",
      "                    ^\n",
      "------------------------------------------------------------\n",
      "\n",
      "C:\\Users\\Ryosuke\\.ipython\\cython\\_cython_magic_e9cef08c5648199cda53c547ac4611b9.pyx:14:21: undeclared name not builtin: dim\n",
      "\n",
      "Error compiling Cython file:\n",
      "------------------------------------------------------------\n",
      "...\n",
      "        return quantum_state\n",
      "    \n",
      "    # construct the circuit\n",
      "    state = np.zeros(dim)\n",
      "    state[0] = 1.0 # |0>状態を準備\n",
      "    for i in range(depth):\n",
      "                  ^\n",
      "------------------------------------------------------------\n",
      "\n",
      "C:\\Users\\Ryosuke\\.ipython\\cython\\_cython_magic_e9cef08c5648199cda53c547ac4611b9.pyx:16:19: undeclared name not builtin: depth\n",
      "\n",
      "Error compiling Cython file:\n",
      "------------------------------------------------------------\n",
      "...\n",
      "def variational_quantum_circuit(params):\n",
      "    s = time.perf_counter()\n",
      "    # Gate layer: D-R-S-R-K\n",
      "    def layer(i, phi):\n",
      "        D = displace_np(params[i*7+0]*np.exp(1j*params[i*7+1]))\n",
      "           ^\n",
      "------------------------------------------------------------\n",
      "\n",
      "C:\\Users\\Ryosuke\\.ipython\\cython\\_cython_magic_e9cef08c5648199cda53c547ac4611b9.pyx:5:12: undeclared name not builtin: displace_np\n",
      "\n",
      "Error compiling Cython file:\n",
      "------------------------------------------------------------\n",
      "...\n",
      "def variational_quantum_circuit(params):\n",
      "    s = time.perf_counter()\n",
      "    # Gate layer: D-R-S-R-K\n",
      "    def layer(i, phi):\n",
      "        D = displace_np(params[i*7+0]*np.exp(1j*params[i*7+1]))\n",
      "        R1 = rotation(params[i*7+2])\n",
      "            ^\n",
      "------------------------------------------------------------\n",
      "\n",
      "C:\\Users\\Ryosuke\\.ipython\\cython\\_cython_magic_e9cef08c5648199cda53c547ac4611b9.pyx:6:13: undeclared name not builtin: rotation\n",
      "\n",
      "Error compiling Cython file:\n",
      "------------------------------------------------------------\n",
      "...\n",
      "    s = time.perf_counter()\n",
      "    # Gate layer: D-R-S-R-K\n",
      "    def layer(i, phi):\n",
      "        D = displace_np(params[i*7+0]*np.exp(1j*params[i*7+1]))\n",
      "        R1 = rotation(params[i*7+2])\n",
      "        S = squeeze_np(params[i*7+3]*np.exp(1j*params[i*7+4]))\n",
      "           ^\n",
      "------------------------------------------------------------\n",
      "\n",
      "C:\\Users\\Ryosuke\\.ipython\\cython\\_cython_magic_e9cef08c5648199cda53c547ac4611b9.pyx:7:12: undeclared name not builtin: squeeze_np\n",
      "\n",
      "Error compiling Cython file:\n",
      "------------------------------------------------------------\n",
      "...\n",
      "    def layer(i, phi):\n",
      "        D = displace_np(params[i*7+0]*np.exp(1j*params[i*7+1]))\n",
      "        R1 = rotation(params[i*7+2])\n",
      "        S = squeeze_np(params[i*7+3]*np.exp(1j*params[i*7+4]))\n",
      "        R2 = rotation(params[i*7+5])\n",
      "        K = kerr(params[i*7+6])\n",
      "           ^\n",
      "------------------------------------------------------------\n",
      "\n",
      "C:\\Users\\Ryosuke\\.ipython\\cython\\_cython_magic_e9cef08c5648199cda53c547ac4611b9.pyx:9:12: undeclared name not builtin: kerr\n"
     ]
    }
   ],
   "source": [
    "def variational_quantum_circuit(params):\n",
    "    s = time.perf_counter()\n",
    "    # Gate layer: D-R-S-R-K\n",
    "    def layer(i, phi):\n",
    "        D = displace_np(params[i*7+0]*np.exp(1j*params[i*7+1]))\n",
    "        R1 = rotation(params[i*7+2])\n",
    "        S = squeeze_np(params[i*7+3]*np.exp(1j*params[i*7+4]))\n",
    "        R2 = rotation(params[i*7+5])\n",
    "        K = kerr(params[i*7+6])\n",
    "        quantum_state = K @ D @ R2 @ S @ R1 @ phi\n",
    "        return quantum_state\n",
    "    \n",
    "    # construct the circuit\n",
    "    state = np.zeros(dim)\n",
    "    state[0] = 1.0 # |0>状態を準備\n",
    "    for i in range(depth):\n",
    "        state = layer(i, state)\n",
    "    e = time.perf_counter()  \n",
    "    #print('time',e-s)\n",
    "    return state, e-s"
   ]
  },
  {
   "cell_type": "code",
   "execution_count": 43,
   "id": "e14e760b",
   "metadata": {},
   "outputs": [
    {
     "name": "stderr",
     "output_type": "stream",
     "text": [
      "\n",
      "Error compiling Cython file:\n",
      "------------------------------------------------------------\n",
      "...\n",
      "dim = 50\n",
      "depth = 8\n",
      "\n",
      "_a = destroy(dim)\n",
      "    ^\n",
      "------------------------------------------------------------\n",
      "\n",
      "C:\\Users\\Ryosuke\\.ipython\\cython\\_cython_magic_e4dec949f0af8c1c2ef0c500574eff5f.pyx:4:5: undeclared name not builtin: destroy\n",
      "\n",
      "Error compiling Cython file:\n",
      "------------------------------------------------------------\n",
      "...\n",
      "_a = destroy(dim)\n",
      "_adag = _a.dag()\n",
      "a = _a.full()\n",
      "adag = _adag.full()\n",
      "\n",
      "t = np.zeros(100)\n",
      "   ^\n",
      "------------------------------------------------------------\n",
      "\n",
      "C:\\Users\\Ryosuke\\.ipython\\cython\\_cython_magic_e4dec949f0af8c1c2ef0c500574eff5f.pyx:9:4: undeclared name not builtin: np\n",
      "\n",
      "Error compiling Cython file:\n",
      "------------------------------------------------------------\n",
      "...\n",
      "_adag = _a.dag()\n",
      "a = _a.full()\n",
      "adag = _adag.full()\n",
      "\n",
      "t = np.zeros(100)\n",
      "for i in tqdm(range(100)):\n",
      "        ^\n",
      "------------------------------------------------------------\n",
      "\n",
      "C:\\Users\\Ryosuke\\.ipython\\cython\\_cython_magic_e4dec949f0af8c1c2ef0c500574eff5f.pyx:10:9: undeclared name not builtin: tqdm\n",
      "\n",
      "Error compiling Cython file:\n",
      "------------------------------------------------------------\n",
      "...\n",
      "adag = _adag.full()\n",
      "\n",
      "t = np.zeros(100)\n",
      "for i in tqdm(range(100)):\n",
      "    params = np.random.normal(0, 0.1, [7*depth]) # 最初のパラメータ\n",
      "    state, t[i] = variational_quantum_circuit(params)\n",
      "                 ^\n",
      "------------------------------------------------------------\n",
      "\n",
      "C:\\Users\\Ryosuke\\.ipython\\cython\\_cython_magic_e4dec949f0af8c1c2ef0c500574eff5f.pyx:12:18: undeclared name not builtin: variational_quantum_circuit\n"
     ]
    }
   ],
   "source": [
    "dim = 50\n",
    "depth = 8\n",
    "\n",
    "_a = destroy(dim)\n",
    "_adag = _a.dag()\n",
    "a = _a.full()\n",
    "adag = _adag.full()\n",
    "\n",
    "t = np.zeros(100)\n",
    "for i in tqdm(range(100)):\n",
    "    params = np.random.normal(0, 0.1, [7*depth]) # 最初のパラメータ\n",
    "    state, t[i] = variational_quantum_circuit(params)\n",
    "print('avg',np.sum(t/100))"
   ]
  },
  {
   "cell_type": "code",
   "execution_count": null,
   "id": "57e67345",
   "metadata": {},
   "outputs": [],
   "source": []
  },
  {
   "cell_type": "code",
   "execution_count": 9,
   "id": "d2fdff12",
   "metadata": {},
   "outputs": [
    {
     "data": {
      "text/plain": [
       "(<Figure size 288x288 with 1 Axes>, <AxesSubplot:xlabel='q', ylabel='p'>)"
      ]
     },
     "execution_count": 9,
     "metadata": {},
     "output_type": "execute_result"
    },
    {
     "data": {
      "image/png": "[encoded data removed]",
      "text/plain": [
       "<Figure size 288x288 with 1 Axes>"
      ]
     },
     "metadata": {
      "needs_background": "light"
     },
     "output_type": "display_data"
    },
    {
     "data": {
      "image/png": "[encoded data removed]",
      "text/plain": [
       "<Figure size 288x288 with 1 Axes>"
      ]
     },
     "metadata": {
      "needs_background": "light"
     },
     "output_type": "display_data"
    },
    {
     "data": {
      "image/png": "[encoded data removed]",
      "text/plain": [
       "<Figure size 288x288 with 1 Axes>"
      ]
     },
     "metadata": {
      "needs_background": "light"
     },
     "output_type": "display_data"
    },
    {
     "data": {
      "image/png": "[encoded data removed]",
      "text/plain": [
       "<Figure size 288x288 with 1 Axes>"
      ]
     },
     "metadata": {
      "needs_background": "light"
     },
     "output_type": "display_data"
    }
   ],
   "source": [
    "state_np = np.zeros(dim)\n",
    "state_np[0] = 1\n",
    "state_qobj = fock(dim, 0)\n",
    "plot_wigner(Qobj(state_np))\n",
    "plot_wigner(state_qobj)\n",
    "\n",
    "alpha = 1 + 1j\n",
    "state1_np = kerr(alpha) @ state_np\n",
    "state1_qobj = squeeze(dim, alpha) * state_qobj\n",
    "plot_wigner(Qobj(state1_np))\n",
    "plot_wigner(state1_qobj)"
   ]
  },
  {
   "cell_type": "code",
   "execution_count": null,
   "id": "f414d4ce",
   "metadata": {},
   "outputs": [],
   "source": []
  }
 ],
 "metadata": {
  "kernelspec": {
   "display_name": "Python 3 (ipykernel)",
   "language": "python",
   "name": "python3"
  },
  "language_info": {
   "codemirror_mode": {
    "name": "ipython",
    "version": 3
   },
   "file_extension": ".py",
   "mimetype": "text/x-python",
   "name": "python",
   "nbconvert_exporter": "python",
   "pygments_lexer": "ipython3",
   "version": "3.8.8"
  }
 },
 "nbformat": 4,
 "nbformat_minor": 5
}
